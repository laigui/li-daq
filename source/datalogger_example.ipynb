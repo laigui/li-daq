{
 "cells": [
  {
   "cell_type": "markdown",
   "metadata": {},
   "source": [
    "# Liquid Instrument Data Logger Examples"
   ]
  },
  {
   "cell_type": "markdown",
   "metadata": {},
   "source": [
    "To demonstrates use of the Datalogger instrument to log time-series voltage data or stream."
   ]
  },
  {
   "cell_type": "markdown",
   "metadata": {},
   "source": [
    "## Setup the Instrument"
   ]
  },
  {
   "cell_type": "markdown",
   "metadata": {},
   "source": [
    "Include the library and create the instrument object"
   ]
  },
  {
   "cell_type": "code",
   "execution_count": 36,
   "metadata": {},
   "outputs": [],
   "source": [
    "import os\n",
    "import time\n",
    "\n",
    "from moku.instruments import Datalogger"
   ]
  },
  {
   "cell_type": "markdown",
   "metadata": {},
   "source": [
    "### Connect the instrument\n",
    "Connect to your Moku by its ip address ('192.168.###.###' or ipv6 addr) using Datalogger"
   ]
  },
  {
   "cell_type": "code",
   "execution_count": 38,
   "metadata": {},
   "outputs": [],
   "source": [
    "i = Datalogger('[fe80::7269:79ff:feb0:a1c%10]', force_connect=True)"
   ]
  },
  {
   "cell_type": "markdown",
   "metadata": {},
   "source": [
    "### Configure the instrument"
   ]
  },
  {
   "cell_type": "code",
   "execution_count": null,
   "metadata": {},
   "outputs": [],
   "source": [
    "# Set the frontend\n",
    "i.set_frontend(channel=1, impedance='1MOhm', coupling=\"DC\", range=\"40Vpp\")\n",
    "i.set_frontend(channel=2, impedance='1MOhm', coupling=\"DC\", range=\"40Vpp\")\n",
    "i.set_frontend(channel=3, impedance='1MOhm', coupling=\"DC\", range=\"40Vpp\")\n",
    "i.set_frontend(channel=4, impedance='1MOhm', coupling=\"DC\", range=\"40Vpp\")"
   ]
  },
  {
   "cell_type": "code",
   "execution_count": null,
   "metadata": {},
   "outputs": [],
   "source": [
    "# Set the sample rate from 10 to 10e6 Hz\n",
    "i.set_samplerate(1000) "
   ]
  },
  {
   "cell_type": "code",
   "execution_count": null,
   "metadata": {},
   "outputs": [],
   "source": [
    "# Set the acquisition mode (Normal, Precision, PeakDetect)\n",
    "i.set_acquisition_mode(mode='Precision')"
   ]
  },
  {
   "cell_type": "code",
   "execution_count": null,
   "metadata": {},
   "outputs": [],
   "source": [
    "# Summarize the settings of current instrument\n",
    "print(i.summarize())"
   ]
  },
  {
   "cell_type": "markdown",
   "metadata": {},
   "source": [
    "## Aquire Data\n"
   ]
  },
  {
   "cell_type": "markdown",
   "metadata": {},
   "source": [
    "### Acquire data and log to a file"
   ]
  },
  {
   "cell_type": "code",
   "execution_count": null,
   "metadata": {},
   "outputs": [],
   "source": [
    "# Stop an existing log, if any, then start a new one. 10 seconds of both channels.\n",
    "logFile = i.start_logging(duration=10)\n",
    "\n",
    "# Track progress percentage of the data logging session\n",
    "is_logging = True\n",
    "while is_logging:\n",
    "    # Wait for the logging session to progress by sleeping 0.5sec\n",
    "    time.sleep(0.5)\n",
    "    # Get current progress percentage and print it out\n",
    "    progress = i.logging_progress()\n",
    "    remaining_time = int(progress['time_to_end'])\n",
    "    is_logging = remaining_time > 1\n",
    "    print(f\"Remaining time {remaining_time} seconds\")\n",
    "    \n",
    "# Download log from Moku, use liconverter to convert this .li file to .csv\n",
    "i.download(\"persist\", logFile['file_name'], os.path.join(os.getcwd(), logFile['file_name']))\n",
    "print(\"Downloaded log file to local directory.\")"
   ]
  },
  {
   "cell_type": "markdown",
   "metadata": {},
   "source": [
    "### Acquire data stream and plot"
   ]
  },
  {
   "cell_type": "code",
   "execution_count": null,
   "metadata": {},
   "outputs": [],
   "source": [
    "import matplotlib.pyplot as plt\n",
    "\n",
    "# Set the sample rate \n",
    "i.set_samplerate(10e3)\n",
    "\n",
    "# stream the data for 10 seconds..\n",
    "i.start_streaming(10)\n",
    "\n",
    "# Set up the plotting parameters\n",
    "plt.ion()\n",
    "fig, ax = plt.subplots()\n",
    "plt.grid(visible=True)\n",
    "plt.ylim([-1, 1])\n",
    "line1, = plt.plot([])\n",
    "\n",
    "# This loops continuously updates the plot with new data\n",
    "while True:\n",
    "    # get the chunk of streamed data\n",
    "    data = i.get_stream_data()\n",
    "    if data:\n",
    "        plt.xlim([data['time'][0], data['time'][-1]])\n",
    "        # Update the plot\n",
    "        line1.set_ydata(data['ch1'])\n",
    "        line1.set_xdata(data['time'])\n",
    "        fig.canvas.draw()\n",
    "        plt.pause(0.001) # Add a short pause to improve animation smoothness"
   ]
  },
  {
   "cell_type": "markdown",
   "metadata": {},
   "source": [
    "## Close the Instrument"
   ]
  },
  {
   "cell_type": "code",
   "execution_count": 39,
   "metadata": {},
   "outputs": [],
   "source": [
    "i.relinquish_ownership()"
   ]
  }
 ],
 "metadata": {
  "kernelspec": {
   "display_name": "base",
   "language": "python",
   "name": "python3"
  },
  "language_info": {
   "codemirror_mode": {
    "name": "ipython",
    "version": 3
   },
   "file_extension": ".py",
   "mimetype": "text/x-python",
   "name": "python",
   "nbconvert_exporter": "python",
   "pygments_lexer": "ipython3",
   "version": "3.11.5"
  }
 },
 "nbformat": 4,
 "nbformat_minor": 2
}
